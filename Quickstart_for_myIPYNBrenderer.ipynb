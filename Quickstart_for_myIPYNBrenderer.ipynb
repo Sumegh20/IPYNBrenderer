{
  "nbformat": 4,
  "nbformat_minor": 0,
  "metadata": {
    "colab": {
      "provenance": [],
      "authorship_tag": "ABX9TyN99lkQpIQKmJ5+9elpToyl",
      "include_colab_link": true
    },
    "kernelspec": {
      "name": "python3",
      "display_name": "Python 3"
    },
    "language_info": {
      "name": "python"
    }
  },
  "cells": [
    {
      "cell_type": "markdown",
      "metadata": {
        "id": "view-in-github",
        "colab_type": "text"
      },
      "source": [
        "<a href=\"https://colab.research.google.com/github/Sumegh20/myIPYNBrenderer/blob/master/Quickstart_for_myIPYNBrenderer.ipynb\" target=\"_parent\"><img src=\"https://colab.research.google.com/assets/colab-badge.svg\" alt=\"Open In Colab\"/></a>"
      ]
    },
    {
      "cell_type": "markdown",
      "source": [
        "## Installation"
      ],
      "metadata": {
        "id": "EE1obFSjgUBj"
      }
    },
    {
      "cell_type": "code",
      "execution_count": 1,
      "metadata": {
        "colab": {
          "base_uri": "https://localhost:8080/"
        },
        "id": "E3KhX3Vef9HD",
        "outputId": "e53812c5-0fbb-46bf-9c33-23932dcedeae"
      },
      "outputs": [
        {
          "output_type": "stream",
          "name": "stdout",
          "text": [
            "Collecting myIPYNBrenderer\n",
            "  Downloading myIPYNBrenderer-0.0.5-py3-none-any.whl (4.8 kB)\n",
            "Collecting ensure==1.0.2 (from myIPYNBrenderer)\n",
            "  Downloading ensure-1.0.2-py2.py3-none-any.whl (15 kB)\n",
            "Collecting py-youtube==1.1.7 (from myIPYNBrenderer)\n",
            "  Downloading py_youtube-1.1.7-py3-none-any.whl (10 kB)\n",
            "Requirement already satisfied: six>=1.11.0 in /usr/local/lib/python3.10/dist-packages (from ensure==1.0.2->myIPYNBrenderer) (1.16.0)\n",
            "Installing collected packages: py-youtube, ensure, myIPYNBrenderer\n",
            "Successfully installed ensure-1.0.2 myIPYNBrenderer-0.0.5 py-youtube-1.1.7\n"
          ]
        }
      ],
      "source": [
        "!pip install myIPYNBrenderer"
      ]
    },
    {
      "cell_type": "markdown",
      "source": [
        "## Import functions"
      ],
      "metadata": {
        "id": "qqMyGfjPhFJn"
      }
    },
    {
      "cell_type": "code",
      "source": [
        "from myIPYNBrenderer import render_site, render_YouTube_video"
      ],
      "metadata": {
        "id": "yX3bpWgDgktF"
      },
      "execution_count": 2,
      "outputs": []
    },
    {
      "cell_type": "markdown",
      "source": [
        "### Render site on your notebook"
      ],
      "metadata": {
        "id": "szztQQHajQmD"
      }
    },
    {
      "cell_type": "code",
      "source": [
        "URL = \"https://packaging.python.org/en/latest/tutorials/packaging-projects/\"\n",
        "render_site(URL=URL)"
      ],
      "metadata": {
        "colab": {
          "base_uri": "https://localhost:8080/",
          "height": 539
        },
        "id": "PpO0kJY3hDnj",
        "outputId": "b2f7bb40-9487-4e19-b486-e9e23fc5a03d"
      },
      "execution_count": 4,
      "outputs": [
        {
          "output_type": "display_data",
          "data": {
            "text/plain": [
              "<IPython.lib.display.IFrame at 0x7a19f0203730>"
            ],
            "text/html": [
              "\n",
              "        <iframe\n",
              "            width=\"90%\"\n",
              "            height=\"500\"\n",
              "            src=\"https://packaging.python.org/en/latest/tutorials/packaging-projects/\"\n",
              "            frameborder=\"0\"\n",
              "            allowfullscreen\n",
              "            \n",
              "        ></iframe>\n",
              "        "
            ]
          },
          "metadata": {}
        },
        {
          "output_type": "execute_result",
          "data": {
            "text/plain": [
              "'SUCCESS'"
            ],
            "application/vnd.google.colaboratory.intrinsic+json": {
              "type": "string"
            }
          },
          "metadata": {},
          "execution_count": 4
        }
      ]
    },
    {
      "cell_type": "markdown",
      "source": [
        "### Render youtube video in your notebook"
      ],
      "metadata": {
        "id": "2068XysmjpnK"
      }
    },
    {
      "cell_type": "code",
      "source": [
        "URL = \"https://www.youtube.com/watch?v=tEFkHEKypLI\"\n",
        "render_YouTube_video(URL=URL)"
      ],
      "metadata": {
        "colab": {
          "base_uri": "https://localhost:8080/",
          "height": 539
        },
        "id": "MBc6K-K4ijF0",
        "outputId": "039a666b-fa27-4803-e25a-cd591f06db48"
      },
      "execution_count": 5,
      "outputs": [
        {
          "output_type": "display_data",
          "data": {
            "text/plain": [
              "<IPython.core.display.HTML object>"
            ],
            "text/html": [
              "<iframe\n",
              "            width=\"900\"\n",
              "            height=\"500\"\n",
              "            src=\"https://www.youtube.com/embed/tEFkHEKypLI?start=0\"\n",
              "            title=\"YouTube video player\"\n",
              "            frameborder=\"0\"\n",
              "            allow=\"accelerometer;\n",
              "            autoplay; clipboard-write;\n",
              "            encrypted-media; gyroscope;\n",
              "            picture-in-picture\" allowfullscreen>\n",
              "            </iframe>\n",
              "            "
            ]
          },
          "metadata": {}
        },
        {
          "output_type": "execute_result",
          "data": {
            "text/plain": [
              "'SUCCESS'"
            ],
            "application/vnd.google.colaboratory.intrinsic+json": {
              "type": "string"
            }
          },
          "metadata": {},
          "execution_count": 5
        }
      ]
    },
    {
      "cell_type": "code",
      "source": [
        "URL = \"https://www.youtube.com/watch?v=tEFkHEKypLI&t=206s\"\n",
        "render_YouTube_video(URL=URL, width=1300, height=600)"
      ],
      "metadata": {
        "colab": {
          "base_uri": "https://localhost:8080/",
          "height": 639
        },
        "id": "JtkFWlsOjoOU",
        "outputId": "daa7b8c0-3416-4abb-e0a3-9b00cabe5e95"
      },
      "execution_count": 18,
      "outputs": [
        {
          "output_type": "display_data",
          "data": {
            "text/plain": [
              "<IPython.core.display.HTML object>"
            ],
            "text/html": [
              "<iframe\n",
              "            width=\"1300\"\n",
              "            height=\"600\"\n",
              "            src=\"https://www.youtube.com/embed/tEFkHEKypLI?start=206\"\n",
              "            title=\"YouTube video player\"\n",
              "            frameborder=\"0\"\n",
              "            allow=\"accelerometer;\n",
              "            autoplay; clipboard-write;\n",
              "            encrypted-media; gyroscope;\n",
              "            picture-in-picture\" allowfullscreen>\n",
              "            </iframe>\n",
              "            "
            ]
          },
          "metadata": {}
        },
        {
          "output_type": "execute_result",
          "data": {
            "text/plain": [
              "'SUCCESS'"
            ],
            "application/vnd.google.colaboratory.intrinsic+json": {
              "type": "string"
            }
          },
          "metadata": {},
          "execution_count": 18
        }
      ]
    },
    {
      "cell_type": "code",
      "source": [],
      "metadata": {
        "id": "cAHhoS2-kqTw"
      },
      "execution_count": null,
      "outputs": []
    }
  ]
}